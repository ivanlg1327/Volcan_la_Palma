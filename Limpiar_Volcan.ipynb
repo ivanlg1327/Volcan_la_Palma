{
 "cells": [
  {
   "cell_type": "code",
   "execution_count": 5,
   "metadata": {},
   "outputs": [],
   "source": [
    "import pandas as pd\n",
    "import numpy as np\n",
    "import matplotlib\n",
    "import matplotlib.pyplot as plt\n",
    "import spacy\n",
    "from spacy.lang.es.examples import sentences \n",
    "\n",
    "\n",
    "nlp = spacy.load('C:\\ProgramData\\Miniconda3\\Lib\\site-packages\\es_core_news_lg\\es_core_news_lg-3.2.0')"
   ]
  },
  {
   "cell_type": "code",
   "execution_count": null,
   "metadata": {},
   "outputs": [],
   "source": []
  }
 ],
 "metadata": {
  "interpreter": {
   "hash": "7dbd1461ef0ecb19380b46078dedc41a3407e4b60a610f1c5dc6b0d5531f534d"
  },
  "kernelspec": {
   "display_name": "Python 3.8.11 64-bit ('tfg': conda)",
   "name": "python3"
  },
  "language_info": {
   "codemirror_mode": {
    "name": "ipython",
    "version": 3
   },
   "file_extension": ".py",
   "mimetype": "text/x-python",
   "name": "python",
   "nbconvert_exporter": "python",
   "pygments_lexer": "ipython3",
   "version": "3.8.11"
  },
  "orig_nbformat": 4
 },
 "nbformat": 4,
 "nbformat_minor": 2
}
